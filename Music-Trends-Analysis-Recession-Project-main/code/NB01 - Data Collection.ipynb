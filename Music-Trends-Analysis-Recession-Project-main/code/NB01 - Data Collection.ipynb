{
 "cells": [
  {
   "cell_type": "markdown",
   "metadata": {},
   "source": [
    "# Data Collection"
   ]
  },
  {
   "cell_type": "markdown",
   "metadata": {},
   "source": [
    "Import required packages and python scripts with my custom data collecting functions, load and set up the environment "
   ]
  },
  {
   "cell_type": "code",
   "execution_count": null,
   "metadata": {},
   "outputs": [],
   "source": [
    "import os \n",
    "import json\n",
    "import requests\n",
    "import pandas as pd\n",
    "\n",
    "from dotenv import load_dotenv\n",
    "from tqdm.notebook import tqdm  \n",
    "from IPython.display import Image\n",
    "\n",
    "import spotify_auth\n",
    "import data_collection\n",
    "\n",
    "tqdm.pandas()\n",
    "load_dotenv()"
   ]
  },
  {
   "cell_type": "markdown",
   "metadata": {},
   "source": [
    "## 1. Get Spotify Token to Access the API\n",
    "\n",
    "This token is valid for one hour and will be used to collect data from the API."
   ]
  },
  {
   "cell_type": "code",
   "execution_count": 2,
   "metadata": {},
   "outputs": [],
   "source": [
    "token = spotify_auth.get_token()"
   ]
  },
  {
   "cell_type": "markdown",
   "metadata": {},
   "source": [
    "## 2. Load Data on Unemployment Rate of the UK \n",
    "\n",
    "- collected from [The Office for National Statistics](https://www.ons.gov.uk/employmentandlabourmarket/peoplenotinwork/unemployment/timeseries/mgsx/lms)\n",
    "\n",
    "save to raw data as a JSON"
   ]
  },
  {
   "cell_type": "code",
   "execution_count": 4,
   "metadata": {},
   "outputs": [],
   "source": [
    "unemployment_rate = pd.read_csv(\"../data/raw/unemployment_statistics.csv\")\n",
    "unemployment_rate.to_json(\"../data/raw/unemployment.json\", orient=\"records\")"
   ]
  },
  {
   "cell_type": "markdown",
   "metadata": {},
   "source": [
    "## 3. Load Data with Top Charting Songs from 2000-2023 in the UK\n",
    "\n",
    "I created a spreadsheet (manually via copy and paste) with artist, song title, and year of popularity. Uploaded to the data folder as a csv.\n",
    "\n",
    "- 2011-2023: collected from [Official Charts top 40 biggest songs of (year) in the UK](https://www.officialcharts.com/chart-news/the-official-top-40-biggest-songs-of-2022__38203/)\n",
    "- 2000-2010: collected from [(year) in British music charts](https://en.wikipedia.org/wiki/2010_in_British_music_charts)"
   ]
  },
  {
   "cell_type": "code",
   "execution_count": 4,
   "metadata": {},
   "outputs": [],
   "source": [
    "top_charts = pd.read_csv(\"../data/raw/top_charts.csv\")"
   ]
  },
  {
   "cell_type": "markdown",
   "metadata": {},
   "source": [
    "## 4. Get Song ID, Release Date, and Genres by Searching the Spotify API\n",
    "\n",
    "Creates **song_data**, a dictionary, with the song/artist/tending year as the unique key, and a nested dictionary with the title, artist, year it was in the top 40 charts, the spotify track id, and the release date."
   ]
  },
  {
   "cell_type": "code",
   "execution_count": 5,
   "metadata": {},
   "outputs": [],
   "source": [
    "song_data = {}\n",
    "\n",
    "for _, row in top_charts.iterrows():\n",
    "    song = row['song']\n",
    "    artist = row['artist']\n",
    "    year = row['year']\n",
    "    unique_key = f\"{song} by {artist} in {year}\"\n",
    "\n",
    "\n",
    "    track_id, release_date, artist_id = data_collection.get_spotify_id(song, artist, token)\n",
    "\n",
    "    genres = data_collection.get_artist_genres(artist_id, token) if artist_id else []\n",
    "\n",
    "    song_data[unique_key] = {\n",
    "        \"song\": song,\n",
    "        \"artist\": artist,\n",
    "        \"track_id\": track_id,\n",
    "        \"artist_id\": artist_id,\n",
    "        \"trending_year\": year,\n",
    "        \"release_date\": release_date,\n",
    "        \"genres\": genres\n",
    "    }"
   ]
  },
  {
   "cell_type": "markdown",
   "metadata": {},
   "source": [
    "## 5. Save Data to a JSON\n",
    "I uploaded this data to the raw folder within my data folder titled charts_song_data.json"
   ]
  },
  {
   "cell_type": "code",
   "execution_count": 6,
   "metadata": {},
   "outputs": [],
   "source": [
    "with open(\"../data/raw/charts_song_data.json\", 'w') as json_file:\n",
    "    json.dump(song_data, json_file)"
   ]
  }
 ],
 "metadata": {
  "kernelspec": {
   "display_name": "base",
   "language": "python",
   "name": "python3"
  },
  "language_info": {
   "codemirror_mode": {
    "name": "ipython",
    "version": 3
   },
   "file_extension": ".py",
   "mimetype": "text/x-python",
   "name": "python",
   "nbconvert_exporter": "python",
   "pygments_lexer": "ipython3",
   "version": "3.11.5"
  }
 },
 "nbformat": 4,
 "nbformat_minor": 2
}
